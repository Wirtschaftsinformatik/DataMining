{
 "cells": [
  {
   "cell_type": "code",
   "execution_count": 6,
   "metadata": {
    "collapsed": true,
    "pycharm": {
     "name": "#%%\n"
    }
   },
   "outputs": [
    {
     "name": "stdout",
     "output_type": "stream",
     "text": [
      "/home/ci95poh/PycharmProjects/DataMining/BI/AssociateRules\n",
      "data loaded\n"
     ]
    }
   ],
   "source": [
    "import os\n",
    "# from PyARMViz.PyARMViz import adjacency_parallel_coordinate_plot\n",
    "# from PyARMViz.PyARMViz import metadata_scatter_plot\n",
    "import arulesviz\n",
    "import pandas as pd\n",
    "from mlxtend.frequent_patterns import apriori, association_rules\n",
    "\n",
    "#### set defaults\n",
    "pd.set_option('display.max_columns', None)\n",
    "#pd.set_option('display.max_rows', None)\n",
    "\n",
    "\n",
    "print(os.getcwd())\n",
    "os.chdir('/home/ci95poh/PycharmProjects/DataMining/BI/AssociateRules')\n",
    "# df = pd.read_csv('Groceries_dataset_R.csv')\n",
    "\n",
    "# df = pd.read_excel('http://archive.ics.uci.edu/ml/machine-learning-databases/00352/Online%20Retail.xlsx')\n",
    "# df = pd.read_csv('Online_Retail.csv')\n",
    "df = pd.read_excel('Online_Retail.xlsx')\n",
    "print('data loaded')"
   ]
  },
  {
   "cell_type": "code",
   "execution_count": 7,
   "outputs": [
    {
     "name": "stdout",
     "output_type": "stream",
     "text": [
      "data preparation completed\n"
     ]
    }
   ],
   "source": [
    "\n",
    "\n",
    "#### data preparation ####\n",
    "# remove blanks\n",
    "df['Description'] = df['Description'].str.strip()\n",
    "# drop rows (axis=0) containing no values\n",
    "df.dropna(axis=0, subset=['InvoiceNo'], inplace=True)\n",
    "# make sure, ivoice number is of type string\n",
    "df['InvoiceNo'] = df['InvoiceNo'].astype('str')\n",
    "# remove all rows, wheer invoice number contains an 'C'\n",
    "df = df[~df['InvoiceNo'].str.contains('C')]\n",
    "\n",
    "# [df['Country'] ==\"France\"]\t\t\"only\" records from France,\n",
    "# .groupby\t\t\t\t\t\t\tgroup first by InvoiceNo, then Description\n",
    "# ['Quantity'].sum()\t\t\t\tsum it up in new columns quantity\n",
    "# .unstack()\t\t\t\t\t\tmake one line for each InvoiceNo\n",
    "# reset_index()\n",
    "# fillna(0)\t\t\t\t\t\t\tset all cells with no value to 0\n",
    "# .set_index\t\t\t\t\t\tmale new index\n",
    "basket = (df[df['Country'] == \"France\"]\n",
    "\t\t  .groupby(['InvoiceNo', 'Description'])['Quantity']\n",
    "\t\t  .sum().unstack().reset_index().fillna(0)\n",
    "\t\t  .set_index('InvoiceNo'))\n",
    "\n",
    "\n",
    "# make one hot encoding\n",
    "def encode_units(x):\n",
    "\tif x <= 0:\n",
    "\t\treturn 0\n",
    "\tif x >= 1:\n",
    "\t\treturn 1\n",
    "\n",
    "\n",
    "#applymap\t\t\t\t\t\t\ta function that accepts and returns a scalar to every element of a DataFrame.\n",
    "basket_sets = basket.applymap(encode_units)\n",
    "# drop column 'POSTAGE'\n",
    "basket_sets.drop('POSTAGE', inplace=True, axis=1)\n",
    "\n",
    "print('data preparation completed')"
   ],
   "metadata": {
    "collapsed": false,
    "pycharm": {
     "name": "#%%\n"
    }
   }
  },
  {
   "cell_type": "code",
   "execution_count": null,
   "outputs": [],
   "source": [
    "# model\n",
    "frequent_itemsets = apriori(basket_sets, min_support=0.07, use_colnames=True)\n",
    "rules = association_rules(frequent_itemsets, metric=\"lift\", min_threshold=1)\n",
    "rules.head()\n",
    "\n",
    "# sample rules\n",
    "subrules_1 = rules[(rules['lift'] >= 6) & (rules['confidence'] >= 0.8)]\n",
    "subrules_1.head()\n",
    "\n",
    "g = arulesviz.Arulesviz(basket_sets, 0.001, 0.3, 12, products_to_drop=[])\n",
    "g.create_rules()\n",
    "g.plot_graph(width=1800, directed=False, charge=-150, link_distance=20)"
   ],
   "metadata": {
    "collapsed": false,
    "pycharm": {
     "name": "#%%\n",
     "is_executing": true
    }
   }
  },
  {
   "cell_type": "code",
   "execution_count": null,
   "outputs": [],
   "source": [
    "##### plot rules ####\n",
    "arulesviz.arulesviz.GridHeatMap(g)\n",
    "# metadata_scatter_plot(subrules_1)\n",
    "# adjacency_parallel_coordinate_plot(subrules_1)"
   ],
   "metadata": {
    "collapsed": false,
    "pycharm": {
     "name": "#%%\n",
     "is_executing": true
    }
   }
  }
 ],
 "metadata": {
  "kernelspec": {
   "display_name": "Python 3",
   "language": "python",
   "name": "python3"
  },
  "language_info": {
   "codemirror_mode": {
    "name": "ipython",
    "version": 2
   },
   "file_extension": ".py",
   "mimetype": "text/x-python",
   "name": "python",
   "nbconvert_exporter": "python",
   "pygments_lexer": "ipython2",
   "version": "2.7.6"
  }
 },
 "nbformat": 4,
 "nbformat_minor": 0
}