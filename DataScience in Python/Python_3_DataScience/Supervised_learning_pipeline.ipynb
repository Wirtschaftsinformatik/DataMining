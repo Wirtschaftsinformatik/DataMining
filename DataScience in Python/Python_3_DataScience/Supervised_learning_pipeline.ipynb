{
 "cells": [
  {
   "cell_type": "markdown",
   "metadata": {
    "pycharm": {
     "name": "#%% md\n"
    }
   },
   "source": [
    "# Supervised Learning\n",
    "**Pipeline Approach**\n",
    "> Sven Gehrke\n",
    "> Feb 2022"
   ]
  },
  {
   "cell_type": "markdown",
   "metadata": {
    "pycharm": {
     "name": "#%% md\n"
    }
   },
   "source": [
    "## Import"
   ]
  },
  {
   "cell_type": "code",
   "execution_count": 1,
   "metadata": {
    "pycharm": {
     "name": "#%%\n"
    }
   },
   "outputs": [],
   "source": [
    "import numpy as np\n",
    "import pandas as pd\n",
    "from sklearn.datasets import load_iris\n",
    "from sklearn.model_selection import GridSearchCV\n",
    "from sklearn.model_selection import train_test_split\n",
    "from sklearn.neighbors import KNeighborsClassifier\n",
    "from sklearn.pipeline import Pipeline\n",
    "from sklearn.preprocessing import StandardScaler"
   ]
  },
  {
   "cell_type": "markdown",
   "metadata": {
    "pycharm": {
     "name": "#%% md\n"
    }
   },
   "source": [
    "## prepare data"
   ]
  },
  {
   "cell_type": "code",
   "execution_count": 2,
   "metadata": {
    "pycharm": {
     "name": "#%%\n"
    }
   },
   "outputs": [],
   "source": [
    "iris = load_iris()\n",
    "iris['data'] = iris['data'][:, [1, 2]]\n",
    "\n",
    "X_train, X_test, y_train, y_test = train_test_split(iris['data'],\n",
    "                                                    iris['target'],\n",
    "                                                    test_size=0.33,\n",
    "                                                    random_state=666\n",
    "                                                    )"
   ]
  },
  {
   "cell_type": "markdown",
   "metadata": {
    "pycharm": {
     "name": "#%% md\n"
    }
   },
   "source": [
    "## Prepare Pipeline\n",
    "the names dont have to be named like here, but its conventional\n",
    "\n",
    "**steps**\n",
    "define the methods and their execution order\n",
    "\n",
    "**param_grid**\n",
    "define the parameter you want to test\n",
    "__ indicate the parameter name 'knn__n_neighbors' -> for the knn step, use the n_neighbor parameter\n",
    "\n",
    "**Pipeline(steps=steps)**\n",
    "create and instance of *pipeline* with the defined *steps*\n",
    "\n",
    "**GridsearchCV**\n",
    "pass the *pipline* and the *param_grid* and perform a gridsearch with cross-validation!\n"
   ]
  },
  {
   "cell_type": "code",
   "execution_count": 3,
   "metadata": {
    "pycharm": {
     "name": "#%%\n"
    }
   },
   "outputs": [
    {
     "data": {
      "text/plain": [
       "GridSearchCV(cv=5,\n",
       "             estimator=Pipeline(steps=[('scaler', StandardScaler()),\n",
       "                                       ('knn', KNeighborsClassifier())]),\n",
       "             param_grid={'knn__leaf_size': array([ 2,  4,  6,  8, 10, 12, 14, 16, 18, 20, 22, 24]),\n",
       "                         'knn__n_neighbors': array([ 3,  5,  7,  9, 11, 13, 15, 17, 19, 21, 23])})"
      ]
     },
     "execution_count": 3,
     "metadata": {},
     "output_type": "execute_result"
    }
   ],
   "source": [
    "steps = [\n",
    "\t('scaler', StandardScaler()),\n",
    "\t('knn', KNeighborsClassifier())\n",
    "]\n",
    "\n",
    "param_grid = {'knn__n_neighbors': np.arange(3, 25, 2),\n",
    "              'knn__leaf_size': np.arange(2, 25, 2)}\n",
    "pipe = Pipeline(steps=steps)\n",
    "grid = GridSearchCV(pipe, param_grid=param_grid, cv=5)\n",
    "grid.fit(X_train, y_train)"
   ]
  },
  {
   "cell_type": "markdown",
   "metadata": {
    "pycharm": {
     "name": "#%% md\n"
    }
   },
   "source": [
    "## evaluate the found solution"
   ]
  },
  {
   "cell_type": "code",
   "execution_count": 4,
   "metadata": {
    "pycharm": {
     "name": "#%%\n"
    }
   },
   "outputs": [
    {
     "name": "stdout",
     "output_type": "stream",
     "text": [
      "Best parameters: {'knn__leaf_size': 2, 'knn__n_neighbors': 17}\n",
      "Best scores: 0.9099999999999999\n"
     ]
    }
   ],
   "source": [
    "grid.score(X_test, y_test)\n",
    "print('Best parameters: {}'.format(grid.best_params_))\n",
    "print('Best scores: {}'.format(grid.best_score_))"
   ]
  },
  {
   "cell_type": "markdown",
   "metadata": {
    "pycharm": {
     "name": "#%% md\n"
    }
   },
   "source": [
    "## store the results\n",
    "\n",
    "**pickle** stores all python objects and can be loaded later"
   ]
  },
  {
   "cell_type": "code",
   "execution_count": 5,
   "metadata": {
    "pycharm": {
     "name": "#%%\n"
    }
   },
   "outputs": [
    {
     "name": "stdout",
     "output_type": "stream",
     "text": [
      "Pipeline(steps=[('scaler', StandardScaler()),\n",
      "                ('knn', KNeighborsClassifier(leaf_size=2, n_neighbors=17))])\n"
     ]
    }
   ],
   "source": [
    "pipe = grid.best_estimator_\n",
    "# store the pipeline\n",
    "\n",
    "pd.to_pickle(pipe,'pipeline.pickle')\n",
    "pipe2=pd.read_pickle('pipeline.pickle')\n",
    "print(pipe2)\n"
   ]
  },
  {
   "cell_type": "markdown",
   "metadata": {
    "pycharm": {
     "name": "#%% md\n"
    }
   },
   "source": [
    "## plot the results"
   ]
  },
  {
   "cell_type": "code",
   "execution_count": 6,
   "metadata": {
    "pycharm": {
     "name": "#%%\n"
    }
   },
   "outputs": [
    {
     "data": {
      "image/png": "[encoded data removed]",
      "text/plain": [
       "<Figure size 432x288 with 1 Axes>"
      ]
     },
     "metadata": {
      "needs_background": "light"
     },
     "output_type": "display_data"
    }
   ],
   "source": [
    "from mlxtend.plotting import plot_decision_regions\n",
    "# Plotting decision region\n",
    "\n",
    "import matplotlib.pyplot as plt\n",
    "\n",
    "plot_decision_regions(iris['data'],\n",
    "                      iris['target'],\n",
    "                      # clf=pipe.named_steps['knn'],\n",
    "                      clf=grid,\n",
    "                      legend=2\n",
    "                      )\n",
    "#plt.figure(figsize=(12, 12), dpi=216)\n",
    "plt.xlabel(iris['feature_names'][1])\n",
    "plt.ylabel(iris['feature_names'][2])\n",
    "plt.title('Knn with K=' + str(grid.best_params_['knn__n_neighbors']))\n",
    "plt.show()"
   ]
  }
 ],
 "metadata": {
  "kernelspec": {
   "display_name": "Python 3 (ipykernel)",
   "language": "python",
   "name": "python3"
  },
  "language_info": {
   "codemirror_mode": {
    "name": "ipython",
    "version": 3
   },
   "file_extension": ".py",
   "mimetype": "text/x-python",
   "name": "python",
   "nbconvert_exporter": "python",
   "pygments_lexer": "ipython3",
   "version": "3.9.12"
  }
 },
 "nbformat": 4,
 "nbformat_minor": 1
}
